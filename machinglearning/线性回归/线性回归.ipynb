{
 "cells": [
  {
   "cell_type": "markdown",
   "metadata": {},
   "source": [
    "# 吴恩达机器学习作业Python实现(一)：线性回归"
   ]
  },
  {
   "cell_type": "markdown",
   "metadata": {},
   "source": [
    "## 单变量线性回归\n",
    "在本部分的练习中，您将使用一个变量实现线性回归，以预测食品卡车的利润：\n",
    "假设你是一家餐馆的首席执行官，正在考虑不同的城市开设一个新的分店。该连锁店已经在各个城市拥有卡车，而且你有来自城市的利润和人口数据。\n",
    "您希望使用这些数据来帮助您选择将哪个城市扩展到下一个城市。"
   ]
  },
  {
   "cell_type": "code",
   "execution_count": 9,
   "metadata": {},
   "outputs": [],
   "source": [
    "import numpy as np\n",
    "import pandas as pd\n",
    "import matplotlib.pyplot as plt"
   ]
  },
  {
   "cell_type": "markdown",
   "metadata": {},
   "source": [
    "### 导入数据集并查看：\n",
    "注意：开始任何任务之前，通过可视化来理解数据通常是有用的。在这个数据集中，只有两个属性（利润和人口），可以绘制散点图。许多其他问题是多维度的，例如下面的多变量线性回归的例子，就不能再二维图上画出来。\n",
    "\n",
    ".describe()显示各统计值"
   ]
  },
  {
   "cell_type": "code",
   "execution_count": 10,
   "metadata": {},
   "outputs": [
    {
     "name": "stdout",
     "output_type": "stream",
     "text": [
      "       Population     Profit\n",
      "count   97.000000  97.000000\n",
      "mean     8.159800   5.839135\n",
      "std      3.869884   5.510262\n",
      "min      5.026900  -2.680700\n",
      "25%      5.707700   1.986900\n",
      "50%      6.589400   4.562300\n",
      "75%      8.578100   7.046700\n",
      "max     22.203000  24.147000\n"
     ]
    }
   ],
   "source": [
    "path = r'ex1data1.txt'\n",
    "data = pd.read_csv(path,names=['Population','Profit'])\n",
    "print(data.describe())"
   ]
  },
  {
   "cell_type": "markdown",
   "metadata": {},
   "source": [
    "绘制散点图：\n",
    "plt.scatter(x,y)"
   ]
  },
  {
   "cell_type": "code",
   "execution_count": 11,
   "metadata": {},
   "outputs": [
    {
     "data": {
      "image/png": "[encoded data removed]",
      "text/plain": [
       "<Figure size 432x288 with 1 Axes>"
      ]
     },
     "metadata": {
      "needs_background": "light"
     },
     "output_type": "display_data"
    }
   ],
   "source": [
    "plt.scatter(data['Population'], data['Profit'])\n",
    "plt.xlabel('Population')\n",
    "plt.ylabel('Profit')\n",
    "#data.plot(kind='scatter', x='Population', y='Profit', figsize=(8,5))\n",
    "plt.show()"
   ]
  },
  {
   "attachments": {},
   "cell_type": "markdown",
   "metadata": {},
   "source": [
    "### 实现代价函数表达式，为所需各变量赋值\n",
    "代价函数表达式：$$J(\\theta_0,\\theta_1,...,\\theta_n)=\\frac{\\sum_{i=1}^m{({h_\\theta(x^{(i)})}-y^{(i)})}^2}{2m}$$其中$$h_\\theta=\\theta^TX=\\theta_0+\\theta_1x_1+\\theta_2x_2+...+\\theta_nx_n$$"
   ]
  },
  {
   "cell_type": "code",
   "execution_count": 12,
   "metadata": {},
   "outputs": [],
   "source": [
    "def computeCost(X,Y,theta):\n",
    "    inner = np.power((X*theta.T)-Y,2)\n",
    "    return np.sum(inner)/(2*len(X))"
   ]
  },
  {
   "cell_type": "markdown",
   "metadata": {},
   "source": [
    "数据集插入一列方便之后进行向量运算，作为$x_0$,值均为1："
   ]
  },
  {
   "cell_type": "code",
   "execution_count": 13,
   "metadata": {},
   "outputs": [
    {
     "name": "stdout",
     "output_type": "stream",
     "text": [
      "   Ones  Population   Profit\n",
      "0     1      6.1101  17.5920\n",
      "1     1      5.5277   9.1302\n",
      "2     1      8.5186  13.6620\n",
      "3     1      7.0032  11.8540\n",
      "4     1      5.8598   6.8233\n"
     ]
    }
   ],
   "source": [
    "data.insert(0,'Ones',1)\n",
    "print(data.head())"
   ]
  },
  {
   "cell_type": "markdown",
   "metadata": {},
   "source": [
    "对表达式中自变量X，因变量Y，未知参数θ初始化\n",
    "（1）data.shape[1]表示列数，data.shape[0]表示行数。\n",
    "（2）data.iloc[]函数通过行号来取行数据\n",
    "     data.iloc[:,cols-1:cols]提取最后一列数据，从0开始计数"
   ]
  },
  {
   "cell_type": "code",
   "execution_count": 14,
   "metadata": {},
   "outputs": [],
   "source": [
    "#set X(training data) and Y(target varible)\n",
    "cols = data.shape[1] #列数\n",
    "X = data.iloc[:,0:cols-1] \n",
    "Y = data.iloc[:,cols-1:cols] #取最后一列，即目标向量"
   ]
  },
  {
   "cell_type": "markdown",
   "metadata": {},
   "source": [
    "将X,Y转换为矩阵，初始化theta为一个（1,2）矩阵：\n",
    "转换为矩阵是为了方便矩阵运算，对于矩阵matrix，*即为点乘，而对于数组array，*为对应位置元素相乘，若要点乘，则需要用到np.dot(X1,X2)"
   ]
  },
  {
   "cell_type": "code",
   "execution_count": 15,
   "metadata": {},
   "outputs": [],
   "source": [
    "X = np.matrix(X.values)\n",
    "Y = np.matrix(Y.values)\n",
    "theta =np.matrix([0,0])"
   ]
  },
  {
   "attachments": {},
   "cell_type": "markdown",
   "metadata": {},
   "source": [
    "### 实现梯度下降函数\n",
    "bathch gradient decent(批量梯度下降)\n",
    "$$\\theta_j:=\\theta_j-\\alpha\\frac{\\partial}{partial\\theta_j}J(\\theta)$$\n",
    "$$\\theta_j:=\\theta_j-\\alpha\\frac{\\sum_{i=1}^m{({h_\\theta(x^{(i)})}-y^{(i)})}{x_j}^{(i)}}{m}$$"
   ]
  },
  {
   "cell_type": "code",
   "execution_count": 16,
   "metadata": {},
   "outputs": [],
   "source": [
    "def gradientDescent(X, Y, theta, alpha, epoch):\n",
    "    temp = np.matrix(np.zeros(theta.shape))  # 初始化一个临时矩阵(1, 2)\n",
    "    cost = np.zeros(epoch)                   # 初始化一个ndarray，包含每次epoch的cost\n",
    "    m = X.shape[0]                           # m为总的样本数\n",
    "    #利用向量化一步求解\n",
    "    for i in range(epoch):\n",
    "        temp = theta - (alpha / m) * (X * theta.T - Y).T * X\n",
    "        theta = temp\n",
    "        cost[i] = computeCost(X,Y,theta) #得到每次迭代代价函数的值\n",
    "    return theta,cost\n",
    "\n",
    "#初始化学习率α和要进行迭代的次数\n",
    "alpha = 0.01\n",
    "epoch = 1000\n",
    "#现在让我们运行梯度下降算法来将我们的参数θ适合于训练集\n",
    "final_theta,cost = gradientDescent(X,Y,theta,alpha,epoch)"
   ]
  },
  {
   "cell_type": "markdown",
   "metadata": {},
   "source": [
    "### 绘制线性模型，直观看出拟合\n",
    "（1）np.linspace()在指定的间隔内返回均匀间隔的数字。"
   ]
  },
  {
   "cell_type": "code",
   "execution_count": 17,
   "metadata": {},
   "outputs": [
    {
     "data": {
      "image/png": "[encoded data removed]",
      "text/plain": [
       "<Figure size 432x288 with 1 Axes>"
      ]
     },
     "metadata": {
      "needs_background": "light"
     },
     "output_type": "display_data"
    }
   ],
   "source": [
    "x = np.linspace(data.Population.min(),data.Population.max(),100)\n",
    "f = final_theta[0,0] + (final_theta[0,1] * x) \n",
    "\n",
    "fig, ax = plt.subplots(figsize=(6,4))\n",
    "ax.plot(x, f, 'r', label='Prediction')\n",
    "ax.scatter(data['Population'], data.Profit, label='Traning Data')\n",
    "ax.legend(loc=2)  # 2表示在左上角\n",
    "ax.set_xlabel('Population')\n",
    "ax.set_ylabel('Profit')\n",
    "ax.set_title('Predicted Profit vs. Population Size')\n",
    "plt.show()"
   ]
  },
  {
   "cell_type": "markdown",
   "metadata": {},
   "source": [
    "由于梯度方程式函数也在每个训练迭代中输出一个代价的向量，所以我们也可以绘制。"
   ]
  },
  {
   "cell_type": "code",
   "execution_count": 18,
   "metadata": {},
   "outputs": [
    {
     "data": {
      "image/png": "[encoded data removed]",
      "text/plain": [
       "<Figure size 576x288 with 1 Axes>"
      ]
     },
     "metadata": {
      "needs_background": "light"
     },
     "output_type": "display_data"
    }
   ],
   "source": [
    "fig,ax = plt.subplots(figsize = (8,4))\n",
    "ax.plot(np.arange(epoch),cost,'r') #np.arange()返回等差数组\n",
    "ax.set_xlabel('Iterations')\n",
    "ax.set_ylabel('Cost')\n",
    "ax.set_title('Error vs. Training Epoch')\n",
    "plt.show()"
   ]
  },
  {
   "cell_type": "markdown",
   "metadata": {},
   "source": [
    "#### 正规方程法"
   ]
  },
  {
   "cell_type": "code",
   "execution_count": 19,
   "metadata": {},
   "outputs": [],
   "source": [
    "def normalEqn(X, y):\n",
    "    theta = np.linalg.inv(X.T*X)*X.T*y#X.T*X等价于X.T.dot(X)\n",
    "    return theta.T\n",
    "final_theta2 = normalEqn(X,Y)"
   ]
  },
  {
   "cell_type": "markdown",
   "metadata": {},
   "source": [
    "打印两种方法的得到的参数值："
   ]
  },
  {
   "cell_type": "code",
   "execution_count": 20,
   "metadata": {},
   "outputs": [
    {
     "name": "stdout",
     "output_type": "stream",
     "text": [
      "[[-3.24140214  1.1272942 ]] \n",
      " [[-3.89578088  1.19303364]]\n"
     ]
    }
   ],
   "source": [
    "print(final_theta,'\\n',final_theta2)"
   ]
  },
  {
   "cell_type": "markdown",
   "metadata": {},
   "source": [
    "## 多变量线性回归\n",
    "练习1还包括一个房屋价格数据集，其中有2个变量（房子的大小，卧室的数量）和目标（房子的价格）。 我们使用我们已经应用的技术来分析数据集。\n",
    "### 导入数据集并查看"
   ]
  },
  {
   "cell_type": "code",
   "execution_count": 21,
   "metadata": {},
   "outputs": [
    {
     "name": "stdout",
     "output_type": "stream",
     "text": [
      "   sizes  rooms  prices\n",
      "0   2104      3  399900\n",
      "1   1600      3  329900\n",
      "2   2400      3  369000\n",
      "3   1416      2  232000\n",
      "4   3000      4  539900\n"
     ]
    }
   ],
   "source": [
    "path = r'ex1data2.txt'\n",
    "data = pd.read_csv(path,names = ['sizes','rooms','prices'])\n",
    "print(data.head())"
   ]
  },
  {
   "cell_type": "markdown",
   "metadata": {},
   "source": [
    "对于此任务，我们添加了另一个预处理步骤：特征缩放，否则以$\\theta_1$，$\\theta_2$两个参数分别为横纵坐标，绘制代价函数的等高线图能，看出图像会显得很扁，梯度下降算法需要非常多次的迭代才能收敛。\n",
    "解决的方法是尝试将所有特征的尺度都尽量缩放到-1 到 1 之间：\n",
    "$$\\frac{x_n-\\mu_n}{s_n}$$其中$\\mu_n$是平均值，$s_n$是标准差。"
   ]
  },
  {
   "cell_type": "code",
   "execution_count": 22,
   "metadata": {},
   "outputs": [
    {
     "name": "stdout",
     "output_type": "stream",
     "text": [
      "      sizes     rooms    prices\n",
      "0  0.130010 -0.223675  0.475747\n",
      "1 -0.504190 -0.223675 -0.084074\n",
      "2  0.502476 -0.223675  0.228626\n",
      "3 -0.735723 -1.537767 -0.867025\n",
      "4  1.257476  1.090417  1.595389\n"
     ]
    }
   ],
   "source": [
    "data['sizes'] = (data['sizes'] - data['sizes'].mean())/data['sizes'].std()\n",
    "data['rooms'] = (data['rooms'] - data['rooms'].mean())/data['rooms'].std()\n",
    "data['prices'] = (data['prices'] - data['prices'].mean())/data['prices'].std()\n",
    "print(data.head())"
   ]
  },
  {
   "cell_type": "markdown",
   "metadata": {},
   "source": [
    "### 实现代价函数表达式，为所需各变量赋值\n",
    "此步骤除代价函数表达式与单变量线性回归有所不同，参数个数增加外，处理方式与单变量线性回归相同。\n",
    "代价函数表达式：$$J(\\theta_0,\\theta_1,...,\\theta_n)=\\frac{\\sum_{i=1}^m{({h_\\theta(x^{(i)})}-y^{(i)})}^2}{2m}$$其中$$h_\\theta=\\theta^TX=\\theta_0+\\theta_1x_1+\\theta_2x_2+...+\\theta_nx_n$$"
   ]
  },
  {
   "cell_type": "code",
   "execution_count": 23,
   "metadata": {},
   "outputs": [],
   "source": [
    "theta = np.matrix(np.zeros(3))\n",
    "#插入一列，作为x0,值为1\n",
    "data.insert(0,'ones',1)\n",
    "cols = data.shape[1]\n",
    "#X = np.matrix(data[:2]) 仅选取前两行\n",
    "X = np.matrix(data.iloc[:,0:cols-1])\n",
    "Y = np.matrix(data.iloc[:,cols-1:cols])\n",
    "#代价函数\n",
    "def computeCost(X,Y,theta):\n",
    "    m = X.shape[0]\n",
    "    return np.sum(np.power((X*theta.T) - Y,2))/(2*m)\n"
   ]
  },
  {
   "cell_type": "markdown",
   "metadata": {},
   "source": [
    "### 实现梯度下降算法"
   ]
  },
  {
   "cell_type": "code",
   "execution_count": 24,
   "metadata": {},
   "outputs": [
    {
     "name": "stdout",
     "output_type": "stream",
     "text": [
      "0.13070336960771892\n"
     ]
    }
   ],
   "source": [
    "#梯度下降\n",
    "def gradientDescent(X,Y,theta,alpha,epoch):\n",
    "    m = X.shape[0]\n",
    "    cost = []\n",
    "    for i in range(epoch):\n",
    "        theta = theta - alpha/m*(X*theta.T - Y).T*X\n",
    "        cost.append(computeCost(X,Y,theta))       #列表添加元素\n",
    "    return theta,cost\n",
    "\n",
    "alpha = 0.01\n",
    "epoch = 1000\n",
    "final_theta,cost = gradientDescent(X,Y,theta,alpha,epoch)\n",
    "final_cost = computeCost(X,Y,final_theta)\n",
    "print(final_cost)"
   ]
  },
  {
   "cell_type": "markdown",
   "metadata": {},
   "source": [
    "### 画图查看训练过程"
   ]
  },
  {
   "cell_type": "code",
   "execution_count": 25,
   "metadata": {},
   "outputs": [
    {
     "data": {
      "image/png": "[encoded data removed]",
      "text/plain": [
       "<Figure size 864x576 with 1 Axes>"
      ]
     },
     "metadata": {
      "needs_background": "light"
     },
     "output_type": "display_data"
    }
   ],
   "source": [
    "#画图查看训练过程\n",
    "fig,ax = plt.subplots(figsize=(12,8))\n",
    "ax.plot(np.arange(epoch),cost,'r')\n",
    "ax.set_xlabel('Iterations')\n",
    "ax.set_ylabel('Cost')\n",
    "ax.set_title('Error vs. Training Epoch')\n",
    "plt.show()"
   ]
  },
  {
   "cell_type": "markdown",
   "metadata": {},
   "source": [
    "#### 正规方程法"
   ]
  },
  {
   "cell_type": "code",
   "execution_count": 26,
   "metadata": {},
   "outputs": [],
   "source": [
    "#正规方程法\n",
    "def normalEqn(X, y):\n",
    "    theta = np.linalg.inv(X.T*X)*X.T*y#X.T*X等价于X.T.dot(X)\n",
    "    return theta.T\n",
    "final_theta2 = normalEqn(X,Y)"
   ]
  },
  {
   "cell_type": "markdown",
   "metadata": {},
   "source": [
    "打印两种方法的得到的参数值："
   ]
  },
  {
   "cell_type": "code",
   "execution_count": 27,
   "metadata": {},
   "outputs": [
    {
     "name": "stdout",
     "output_type": "stream",
     "text": [
      "[[-1.11113782e-16  8.78503652e-01 -4.69166570e-02]] \n",
      " [[-1.17961196e-16  8.84765988e-01 -5.31788197e-02]]\n"
     ]
    }
   ],
   "source": [
    "print(final_theta,'\\n',final_theta2)"
   ]
  }
 ],
 "metadata": {
  "kernelspec": {
   "display_name": "Python 3",
   "language": "python",
   "name": "python3"
  },
  "language_info": {
   "codemirror_mode": {
    "name": "ipython",
    "version": 3
   },
   "file_extension": ".py",
   "mimetype": "text/x-python",
   "name": "python",
   "nbconvert_exporter": "python",
   "pygments_lexer": "ipython3",
   "version": "3.7.1"
  }
 },
 "nbformat": 4,
 "nbformat_minor": 2
}
